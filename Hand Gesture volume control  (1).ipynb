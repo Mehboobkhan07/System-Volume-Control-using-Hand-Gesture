{
 "cells": [
  {
   "cell_type": "code",
   "execution_count": 49,
   "id": "d6536728",
   "metadata": {},
   "outputs": [
    {
     "name": "stdout",
     "output_type": "stream",
     "text": [
      "Requirement already satisfied: mediapipe in c:\\users\\hp\\anaconda3\\lib\\site-packages (0.10.10)\n",
      "Requirement already satisfied: absl-py in c:\\users\\hp\\anaconda3\\lib\\site-packages (from mediapipe) (1.4.0)\n",
      "Requirement already satisfied: attrs>=19.1.0 in c:\\users\\hp\\anaconda3\\lib\\site-packages (from mediapipe) (21.4.0)\n",
      "Requirement already satisfied: flatbuffers>=2.0 in c:\\users\\hp\\anaconda3\\lib\\site-packages (from mediapipe) (23.5.26)\n",
      "Requirement already satisfied: jax in c:\\users\\hp\\anaconda3\\lib\\site-packages (from mediapipe) (0.4.25)\n"
     ]
    },
    {
     "name": "stderr",
     "output_type": "stream",
     "text": [
      "WARNING: Ignoring invalid distribution -ensorflow-intel (c:\\users\\hp\\anaconda3\\lib\\site-packages)\n",
      "WARNING: Ignoring invalid distribution -umpy (c:\\users\\hp\\anaconda3\\lib\\site-packages)\n",
      "WARNING: Ignoring invalid distribution -ensorflow-intel (c:\\users\\hp\\anaconda3\\lib\\site-packages)\n",
      "WARNING: Ignoring invalid distribution -umpy (c:\\users\\hp\\anaconda3\\lib\\site-packages)\n"
     ]
    },
    {
     "name": "stdout",
     "output_type": "stream",
     "text": [
      "Requirement already satisfied: matplotlib in c:\\users\\hp\\anaconda3\\lib\\site-packages (from mediapipe) (3.5.1)\n",
      "Requirement already satisfied: numpy in c:\\users\\hp\\anaconda3\\lib\\site-packages (from mediapipe) (1.26.2)\n",
      "Requirement already satisfied: opencv-contrib-python in c:\\users\\hp\\anaconda3\\lib\\site-packages (from mediapipe) (4.9.0.80)\n",
      "Requirement already satisfied: protobuf<4,>=3.11 in c:\\users\\hp\\anaconda3\\lib\\site-packages (from mediapipe) (3.20.3)\n",
      "Requirement already satisfied: sounddevice>=0.4.4 in c:\\users\\hp\\anaconda3\\lib\\site-packages (from mediapipe) (0.4.6)\n",
      "Requirement already satisfied: CFFI>=1.0 in c:\\users\\hp\\anaconda3\\lib\\site-packages (from sounddevice>=0.4.4->mediapipe) (1.15.0)\n",
      "Requirement already satisfied: ml-dtypes>=0.2.0 in c:\\users\\hp\\anaconda3\\lib\\site-packages (from jax->mediapipe) (0.2.0)\n",
      "Requirement already satisfied: opt-einsum in c:\\users\\hp\\anaconda3\\lib\\site-packages (from jax->mediapipe) (3.3.0)\n",
      "Requirement already satisfied: scipy>=1.9 in c:\\users\\hp\\anaconda3\\lib\\site-packages (from jax->mediapipe) (1.12.0)\n",
      "Requirement already satisfied: importlib-metadata>=4.6 in c:\\users\\hp\\anaconda3\\lib\\site-packages (from jax->mediapipe) (4.11.3)\n",
      "Requirement already satisfied: cycler>=0.10 in c:\\users\\hp\\anaconda3\\lib\\site-packages (from matplotlib->mediapipe) (0.11.0)\n",
      "Requirement already satisfied: fonttools>=4.22.0 in c:\\users\\hp\\anaconda3\\lib\\site-packages (from matplotlib->mediapipe) (4.25.0)\n",
      "Requirement already satisfied: kiwisolver>=1.0.1 in c:\\users\\hp\\anaconda3\\lib\\site-packages (from matplotlib->mediapipe) (1.4.2)\n",
      "Requirement already satisfied: packaging>=20.0 in c:\\users\\hp\\anaconda3\\lib\\site-packages (from matplotlib->mediapipe) (23.2)\n",
      "Requirement already satisfied: pillow>=6.2.0 in c:\\users\\hp\\anaconda3\\lib\\site-packages (from matplotlib->mediapipe) (9.2.0)\n",
      "Requirement already satisfied: pyparsing>=2.2.1 in c:\\users\\hp\\anaconda3\\lib\\site-packages (from matplotlib->mediapipe) (3.0.4)\n",
      "Requirement already satisfied: python-dateutil>=2.7 in c:\\users\\hp\\anaconda3\\lib\\site-packages (from matplotlib->mediapipe) (2.8.2)\n",
      "Requirement already satisfied: pycparser in c:\\users\\hp\\anaconda3\\lib\\site-packages (from CFFI>=1.0->sounddevice>=0.4.4->mediapipe) (2.21)\n",
      "Requirement already satisfied: zipp>=0.5 in c:\\users\\hp\\anaconda3\\lib\\site-packages (from importlib-metadata>=4.6->jax->mediapipe) (3.8.0)\n",
      "Requirement already satisfied: six>=1.5 in c:\\users\\hp\\anaconda3\\lib\\site-packages (from python-dateutil>=2.7->matplotlib->mediapipe) (1.16.0)\n"
     ]
    }
   ],
   "source": [
    "!pip install mediapipe"
   ]
  },
  {
   "cell_type": "code",
   "execution_count": 50,
   "id": "f2572380",
   "metadata": {},
   "outputs": [
    {
     "name": "stdout",
     "output_type": "stream",
     "text": [
      "Requirement already satisfied: pyautogui in c:\\users\\hp\\anaconda3\\lib\\site-packages (0.9.54)"
     ]
    },
    {
     "name": "stderr",
     "output_type": "stream",
     "text": [
      "WARNING: Ignoring invalid distribution -ensorflow-intel (c:\\users\\hp\\anaconda3\\lib\\site-packages)\n",
      "WARNING: Ignoring invalid distribution -umpy (c:\\users\\hp\\anaconda3\\lib\\site-packages)\n",
      "WARNING: Ignoring invalid distribution -ensorflow-intel (c:\\users\\hp\\anaconda3\\lib\\site-packages)\n",
      "WARNING: Ignoring invalid distribution -umpy (c:\\users\\hp\\anaconda3\\lib\\site-packages)\n"
     ]
    },
    {
     "name": "stdout",
     "output_type": "stream",
     "text": [
      "\n",
      "Requirement already satisfied: pymsgbox in c:\\users\\hp\\anaconda3\\lib\\site-packages (from pyautogui) (1.0.9)\n",
      "Requirement already satisfied: pytweening>=1.0.4 in c:\\users\\hp\\anaconda3\\lib\\site-packages (from pyautogui) (1.2.0)\n",
      "Requirement already satisfied: pyscreeze>=0.1.21 in c:\\users\\hp\\anaconda3\\lib\\site-packages (from pyautogui) (0.1.30)\n",
      "Requirement already satisfied: pygetwindow>=0.0.5 in c:\\users\\hp\\anaconda3\\lib\\site-packages (from pyautogui) (0.0.9)\n",
      "Requirement already satisfied: mouseinfo in c:\\users\\hp\\anaconda3\\lib\\site-packages (from pyautogui) (0.1.3)\n",
      "Requirement already satisfied: pyrect in c:\\users\\hp\\anaconda3\\lib\\site-packages (from pygetwindow>=0.0.5->pyautogui) (0.2.0)\n",
      "Requirement already satisfied: Pillow>=9.2.0 in c:\\users\\hp\\anaconda3\\lib\\site-packages (from pyscreeze>=0.1.21->pyautogui) (9.2.0)\n",
      "Requirement already satisfied: pyperclip in c:\\users\\hp\\anaconda3\\lib\\site-packages (from mouseinfo->pyautogui) (1.8.2)\n"
     ]
    }
   ],
   "source": [
    "!pip install pyautogui"
   ]
  },
  {
   "cell_type": "markdown",
   "id": "afe5bde4",
   "metadata": {},
   "source": [
    "# Import Libraries and Define Global Variables"
   ]
  },
  {
   "cell_type": "code",
   "execution_count": 43,
   "id": "7e639876",
   "metadata": {},
   "outputs": [],
   "source": [
    "import cv2\n",
    "import mediapipe as mp\n",
    "import pyautogui\n",
    "import tkinter as tk\n",
    "from PIL import Image, ImageTk\n",
    "\n",
    "# Initialize variables\n",
    "x1 = y1 = x2 = y2 = 0\n",
    "dist = 0\n",
    "running = False  # Flag to indicate if hand gesture detection is running\n"
   ]
  },
  {
   "cell_type": "markdown",
   "id": "50a9192d",
   "metadata": {},
   "source": [
    "# Define Functions"
   ]
  },
  {
   "cell_type": "code",
   "execution_count": 44,
   "id": "4219c77f",
   "metadata": {},
   "outputs": [],
   "source": [
    "# Function to start hand gesture detection\n",
    "def start():\n",
    "    global running\n",
    "    running = True\n",
    "    update()\n",
    "\n",
    "# Function to stop hand gesture detection\n",
    "def stop():\n",
    "    global running\n",
    "    running = False\n",
    "\n",
    "# Function to update GUI with hand gesture detection\n",
    "def update():\n",
    "    global x1, y1, x2, y2, dist, running\n",
    "\n",
    "    if running:\n",
    "        _, image = webcam.read()\n",
    "        image = cv2.flip(image, 1)\n",
    "        frame_height, frame_width, _ = image.shape\n",
    "\n",
    "        # Convert image to RGB for processing with MediaPipe\n",
    "        rgb_image = cv2.cvtColor(image, cv2.COLOR_BGR2RGB)\n",
    "        output = my_hands.process(rgb_image)\n",
    "        hands = output.multi_hand_landmarks\n",
    "\n",
    "        if hands:\n",
    "            for hand in hands:\n",
    "                drawing_utils.draw_landmarks(image, hand)\n",
    "                landmarks = hand.landmark\n",
    "                for id, landmark in enumerate(landmarks):\n",
    "                    x = int(landmark.x * frame_width)\n",
    "                    y = int(landmark.y * frame_height)\n",
    "                    if id == 8:\n",
    "                        cv2.circle(img=image, center=(x, y), radius=8, color=(0, 255, 255), thickness=3)\n",
    "                        x1 = x\n",
    "                        y1 = y\n",
    "                    if id == 4:\n",
    "                        cv2.circle(img=image, center=(x, y), radius=8, color=(0, 0, 255), thickness=3)\n",
    "                        x2 = x\n",
    "                        y2 = y\n",
    "\n",
    "                dist = ((x2 - x1) ** 2 + (y2 - y1) ** 2) ** (0.5) // 4\n",
    "                cv2.line(image, (x1, y1), (x2, y2), (0, 255, 0), 5)\n",
    "\n",
    "            if dist > 50:\n",
    "                pyautogui.press(\"volumeup\")\n",
    "            else:\n",
    "                pyautogui.press(\"volumedown\")\n",
    "\n",
    "        # Display the image on the canvas\n",
    "        img = Image.fromarray(cv2.cvtColor(image, cv2.COLOR_BGR2RGB))\n",
    "        img = ImageTk.PhotoImage(image=img)\n",
    "        canvas.img = img\n",
    "        canvas.create_image(0, 0, anchor=tk.NW, image=img)\n",
    "\n",
    "    root.after(10, update)  # Update the GUI every 10 milliseconds\n"
   ]
  },
  {
   "cell_type": "markdown",
   "id": "de104a69",
   "metadata": {},
   "source": [
    "# Initialize GUI and Run Application"
   ]
  },
  {
   "cell_type": "code",
   "execution_count": 54,
   "id": "d4413a52",
   "metadata": {},
   "outputs": [],
   "source": [
    "# Tkinter GUI setup\n",
    "root = tk.Tk()\n",
    "root.title(\"Hand Gesture Control System\")\n",
    "root.configure(bg='#f0f0f0')\n",
    "\n",
    "# Create a frame for the webcam feed\n",
    "frame = tk.Frame(root, bg='#f0f0f0')\n",
    "frame.pack(padx=10, pady=10)\n",
    "\n",
    "# Create a label for the webcam feed\n",
    "label = tk.Label(frame, text=\"Webcam Feed\", font=(\"Helvetica\", 12), bg='#f0f0f0')\n",
    "label.pack()\n",
    "\n",
    "# Create a canvas for displaying the webcam feed\n",
    "canvas = tk.Canvas(frame, width=800, height=600, bg='white')\n",
    "canvas.pack()\n",
    "\n",
    "# Create start and stop buttons\n",
    "start_button = tk.Button(root, text=\"Start\", font=(\"Helvetica\", 12), bg='#4CAF50', fg='white', command=start)\n",
    "start_button.pack(side=tk.LEFT, padx=10, pady=10)\n",
    "\n",
    "stop_button = tk.Button(root, text=\"Stop\", font=(\"Helvetica\", 12), bg='#F44336', fg='white', command=stop)\n",
    "stop_button.pack(side=tk.LEFT, padx=10, pady=10)\n",
    "\n",
    "# Initialize webcam\n",
    "webcam = cv2.VideoCapture(0)\n",
    "my_hands = mp.solutions.hands.Hands()\n",
    "drawing_utils = mp.solutions.drawing_utils\n",
    "\n",
    "root.mainloop()  # Start the Tkinter event loop\n"
   ]
  },
  {
   "cell_type": "code",
   "execution_count": null,
   "id": "79df6134",
   "metadata": {},
   "outputs": [],
   "source": []
  },
  {
   "cell_type": "code",
   "execution_count": null,
   "id": "a4705f84",
   "metadata": {},
   "outputs": [],
   "source": []
  }
 ],
 "metadata": {
  "kernelspec": {
   "display_name": "Python 3 (ipykernel)",
   "language": "python",
   "name": "python3"
  },
  "language_info": {
   "codemirror_mode": {
    "name": "ipython",
    "version": 3
   },
   "file_extension": ".py",
   "mimetype": "text/x-python",
   "name": "python",
   "nbconvert_exporter": "python",
   "pygments_lexer": "ipython3",
   "version": "3.9.12"
  }
 },
 "nbformat": 4,
 "nbformat_minor": 5
}
